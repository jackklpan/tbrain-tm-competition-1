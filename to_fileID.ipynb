{
 "cells": [
  {
   "cell_type": "code",
   "execution_count": 3,
   "metadata": {},
   "outputs": [
    {
     "name": "stdout",
     "output_type": "stream",
     "text": [
      "                             FileID  label\n",
      "0  0000e2398b12121a85166fed5fe2a3da      0\n",
      "1  0001fe8dce14ce099aa6ca8ea5026ea7      0\n",
      "2  00027f50019000accc492e5684efc818      0\n",
      "3  00028c9da3573ec50db74b44310ae507      0\n",
      "4  0003dc8130969abe688cadf5f14ea19f      0\n",
      "                             FileID  label\n",
      "0  00008c73ee43c15b16c26b26398c1577    0.5\n",
      "1  0002ded3a0b54f2ffdab0ca77a5ce2b6    0.5\n",
      "2  00050a9df8e13f6ab5a3d3b3e2fc6a86    0.5\n",
      "3  000b1aa62b95e448784b8b341de46c64    0.5\n",
      "4  000d9f96b5eddf04a3b7a37cb95d0a00    0.5\n"
     ]
    }
   ],
   "source": [
    "import pandas as pd\n",
    "import io\n",
    "\n",
    "train_ans_df = pd.read_csv('training-set.csv', header=None, names=['FileID', 'label'])\n",
    "test_ans_df = pd.read_csv('testing-set.csv', header=None, names=['FileID', 'label'])\n",
    "print(train_ans_df.head())\n",
    "print(test_ans_df.head())"
   ]
  },
  {
   "cell_type": "code",
   "execution_count": 4,
   "metadata": {
    "collapsed": true
   },
   "outputs": [],
   "source": [
    "project_id = 'spartan-lacing-115808'"
   ]
  },
  {
   "cell_type": "code",
   "execution_count": 5,
   "metadata": {},
   "outputs": [
    {
     "name": "stdout",
     "output_type": "stream",
     "text": [
      "Updated property [core/project].\r\n"
     ]
    }
   ],
   "source": [
    "!gcloud config set project {project_id}\n",
    "bucket_name = 'tbrain-tm1'"
   ]
  },
  {
   "cell_type": "code",
   "execution_count": 6,
   "metadata": {},
   "outputs": [
    {
     "name": "stdout",
     "output_type": "stream",
     "text": [
      "Copying gs://tbrain-tm1/query_log/0301.csv...\n",
      "Copying gs://tbrain-tm1/query_log/0302.csv...                                   \n",
      "Copying gs://tbrain-tm1/query_log/0303.csv...                                   \n",
      "Copying gs://tbrain-tm1/query_log/0305.csv...                                   \n",
      "Copying gs://tbrain-tm1/query_log/0304.csv...\n",
      "Copying gs://tbrain-tm1/query_log/0306.csv...                                   \n",
      "Copying gs://tbrain-tm1/query_log/0313.csv...\n",
      "Copying gs://tbrain-tm1/query_log/0307.csv...                                   \n",
      "Copying gs://tbrain-tm1/query_log/0312.csv...                                   \n",
      "Copying gs://tbrain-tm1/query_log/0308.csv...                                   \n",
      "Copying gs://tbrain-tm1/query_log/0311.csv...                                   \n",
      "Copying gs://tbrain-tm1/query_log/0310.csv...                                   \n",
      "Copying gs://tbrain-tm1/query_log/0314.csv...\n",
      "Copying gs://tbrain-tm1/query_log/0309.csv...\n",
      "Copying gs://tbrain-tm1/query_log/0315.csv...                                   \n",
      "Copying gs://tbrain-tm1/query_log/0316.csv...                                   \n",
      "Copying gs://tbrain-tm1/query_log/0317.csv...\n",
      "Copying gs://tbrain-tm1/query_log/0318.csv...                                   \n",
      "Copying gs://tbrain-tm1/query_log/0321.csv...\n",
      "Copying gs://tbrain-tm1/query_log/0322.csv...\n",
      "Copying gs://tbrain-tm1/query_log/0319.csv...\n",
      "Copying gs://tbrain-tm1/query_log/0320.csv...                                   \n",
      "Copying gs://tbrain-tm1/query_log/0325.csv...                                   \n",
      "Copying gs://tbrain-tm1/query_log/0327.csv...                                   \n",
      "Copying gs://tbrain-tm1/query_log/0324.csv...\n",
      "Copying gs://tbrain-tm1/query_log/0326.csv...                                   \n",
      "Copying gs://tbrain-tm1/query_log/0331.csv...\n",
      "Copying gs://tbrain-tm1/query_log/0323.csv...\n",
      "Copying gs://tbrain-tm1/query_log/0328.csv...                                   \n",
      "Copying gs://tbrain-tm1/query_log/0401.csv...                                   \n",
      "Copying gs://tbrain-tm1/query_log/0405.csv...\n",
      "Copying gs://tbrain-tm1/query_log/0329.csv...                                   \n",
      "Copying gs://tbrain-tm1/query_log/0402.csv...                                   \n",
      "Copying gs://tbrain-tm1/query_log/0403.csv...\n",
      "Copying gs://tbrain-tm1/query_log/0404.csv...                                   \n",
      "Copying gs://tbrain-tm1/query_log/0330.csv...                                   \n",
      "Copying gs://tbrain-tm1/query_log/0406.csv...                                   \n",
      "Copying gs://tbrain-tm1/query_log/0408.csv...\n",
      "Copying gs://tbrain-tm1/query_log/0407.csv...                                   \n",
      "Copying gs://tbrain-tm1/query_log/0409.csv...                                   \n",
      "Copying gs://tbrain-tm1/query_log/0410.csv...                                   \n",
      "Copying gs://tbrain-tm1/query_log/0411.csv...                                   \n",
      "Copying gs://tbrain-tm1/query_log/0412.csv...                                   \n",
      "Copying gs://tbrain-tm1/query_log/0413.csv...                                   \n",
      "Copying gs://tbrain-tm1/query_log/0414.csv...                                   \n",
      "Copying gs://tbrain-tm1/query_log/0415.csv...                                   \n",
      "Copying gs://tbrain-tm1/query_log/0416.csv...                                   \n",
      "Copying gs://tbrain-tm1/query_log/0417.csv...                                   \n",
      "Copying gs://tbrain-tm1/query_log/0418.csv...                                   \n",
      "Copying gs://tbrain-tm1/query_log/0419.csv...e                                  \n",
      "Copying gs://tbrain-tm1/query_log/0420.csv...e                                  \n",
      "Copying gs://tbrain-tm1/query_log/0421.csv...e                                  \n",
      "Copying gs://tbrain-tm1/query_log/0423.csv...e                                  \n",
      "Copying gs://tbrain-tm1/query_log/0422.csv...\n",
      "Copying gs://tbrain-tm1/query_log/0424.csv...e                                  \n",
      "Copying gs://tbrain-tm1/query_log/0425.csv...\n",
      "Copying gs://tbrain-tm1/query_log/0426.csv...e                                  \n",
      "Copying gs://tbrain-tm1/query_log/0427.csv...\n",
      "Copying gs://tbrain-tm1/query_log/0428.csv...e                                  \n",
      "Copying gs://tbrain-tm1/query_log/0429.csv...e                                  \n",
      "Copying gs://tbrain-tm1/query_log/0430.csv...\n",
      "Copying gs://tbrain-tm1/query_log/0501.csv...e                                  \n",
      "Copying gs://tbrain-tm1/query_log/0502.csv...e 359.9 MiB/s ETA 00:00:08         \n",
      "Copying gs://tbrain-tm1/query_log/0503.csv...e 363.5 MiB/s ETA 00:00:08         \n",
      "Copying gs://tbrain-tm1/query_log/0504.csv...e 363.9 MiB/s ETA 00:00:07         \n",
      "Copying gs://tbrain-tm1/query_log/0505.csv...\n",
      "Copying gs://tbrain-tm1/query_log/0506.csv...\n",
      "Copying gs://tbrain-tm1/query_log/0507.csv...e 357.6 MiB/s ETA 00:00:07         \n",
      "Copying gs://tbrain-tm1/query_log/0508.csv...e 355.6 MiB/s ETA 00:00:07         \n",
      "Copying gs://tbrain-tm1/query_log/0509.csv...e 439.9 MiB/s ETA 00:00:05         \n",
      "Copying gs://tbrain-tm1/query_log/0510.csv...e 425.5 MiB/s ETA 00:00:05         \n",
      "Copying gs://tbrain-tm1/query_log/0511.csv...e 424.4 MiB/s ETA 00:00:05         \n",
      "Copying gs://tbrain-tm1/query_log/0512.csv...e 423.9 MiB/s ETA 00:00:05         \n",
      "Copying gs://tbrain-tm1/query_log/0513.csv...\n",
      "Copying gs://tbrain-tm1/query_log/0514.csv...e  90.6 MiB/s ETA 00:00:20         \n",
      "Copying gs://tbrain-tm1/query_log/0515.csv...\n",
      "Copying gs://tbrain-tm1/query_log/0516.csv...e  93.7 MiB/s ETA 00:00:19         \n",
      "Copying gs://tbrain-tm1/query_log/0517.csv...e 100.4 MiB/s ETA 00:00:16         \n",
      "Copying gs://tbrain-tm1/query_log/0518.csv...e 116.7 MiB/s ETA 00:00:13         \n",
      "Copying gs://tbrain-tm1/query_log/0519.csv...e 116.5 MiB/s ETA 00:00:13         \n",
      "Copying gs://tbrain-tm1/query_log/0520.csv...e 408.1 MiB/s ETA 00:00:03         \n",
      "Copying gs://tbrain-tm1/query_log/0521.csv...e 406.5 MiB/s ETA 00:00:03         \n",
      "Copying gs://tbrain-tm1/query_log/0522.csv...e 415.0 MiB/s ETA 00:00:03         \n",
      "Copying gs://tbrain-tm1/query_log/0523.csv...e 427.9 MiB/s ETA 00:00:02         \n",
      "Copying gs://tbrain-tm1/query_log/0524.csv...e 433.8 MiB/s ETA 00:00:02         \n",
      "Copying gs://tbrain-tm1/query_log/0525.csv...e 436.0 MiB/s ETA 00:00:02         \n",
      "Copying gs://tbrain-tm1/query_log/0526.csv...e 435.3 MiB/s ETA 00:00:02         \n",
      "Copying gs://tbrain-tm1/query_log/0527.csv...e 440.0 MiB/s ETA 00:00:01         \n",
      "Copying gs://tbrain-tm1/query_log/0528.csv...e 430.8 MiB/s ETA 00:00:00         \n",
      "Copying gs://tbrain-tm1/query_log/0529.csv...e 423.6 MiB/s ETA 00:00:00         \n",
      "Copying gs://tbrain-tm1/query_log/0530.csv...e 419.9 MiB/s ETA 00:00:00         \n",
      "Copying gs://tbrain-tm1/query_log/0531.csv...e 419.9 MiB/s ETA 00:00:00         \n",
      "- [92/92 files][  6.5 GiB/  6.5 GiB] 100% Done     0.0 B/s                      \n",
      "Operation completed over 92 objects/6.5 GiB.                                     \n"
     ]
    }
   ],
   "source": [
    "#!gsutil -m cp gs://{bucket_name}/query_log/* ./query_log/"
   ]
  },
  {
   "cell_type": "code",
   "execution_count": 8,
   "metadata": {},
   "outputs": [
    {
     "name": "stdout",
     "output_type": "stream",
     "text": [
      "['./query_log/0521.csv', './query_log/0318.csv', './query_log/0306.csv', './query_log/0321.csv', './query_log/0514.csv', './query_log/0416.csv', './query_log/0427.csv', './query_log/0310.csv', './query_log/0525.csv', './query_log/0403.csv', './query_log/0429.csv', './query_log/0423.csv', './query_log/0327.csv', './query_log/0526.csv', './query_log/0506.csv', './query_log/0512.csv', './query_log/0326.csv', './query_log/0404.csv', './query_log/0301.csv', './query_log/0305.csv', './query_log/0504.csv', './query_log/0328.csv', './query_log/0302.csv', './query_log/0430.csv', './query_log/0519.csv', './query_log/0410.csv', './query_log/0420.csv', './query_log/0405.csv', './query_log/0411.csv', './query_log/0307.csv', './query_log/0320.csv', './query_log/0408.csv', './query_log/0303.csv', './query_log/0322.csv', './query_log/0401.csv', './query_log/0428.csv', './query_log/0510.csv', './query_log/0402.csv', './query_log/0407.csv', './query_log/0516.csv', './query_log/0309.csv', './query_log/0418.csv', './query_log/0528.csv', './query_log/0515.csv', './query_log/0531.csv', './query_log/0513.csv', './query_log/0530.csv', './query_log/0409.csv', './query_log/0508.csv', './query_log/0529.csv', './query_log/0412.csv', './query_log/0505.csv', './query_log/0323.csv', './query_log/0524.csv', './query_log/0331.csv', './query_log/0425.csv', './query_log/0518.csv', './query_log/0330.csv', './query_log/0316.csv', './query_log/0501.csv', './query_log/0406.csv', './query_log/0304.csv', './query_log/0311.csv', './query_log/0502.csv', './query_log/0413.csv', './query_log/0415.csv', './query_log/0312.csv', './query_log/0414.csv', './query_log/0422.csv', './query_log/0419.csv', './query_log/0527.csv', './query_log/0421.csv', './query_log/0517.csv', './query_log/0317.csv', './query_log/0417.csv', './query_log/0315.csv', './query_log/0522.csv', './query_log/0507.csv', './query_log/0308.csv', './query_log/0503.csv', './query_log/0313.csv', './query_log/0324.csv', './query_log/0319.csv', './query_log/0424.csv', './query_log/0314.csv', './query_log/0426.csv', './query_log/0523.csv', './query_log/0325.csv', './query_log/0509.csv', './query_log/0511.csv', './query_log/0329.csv', './query_log/0520.csv']\n",
      "92\n",
      "46\n",
      "46\n"
     ]
    }
   ],
   "source": [
    "import os\n",
    "rootdir = './query_log'\n",
    "all_files = []\n",
    "for subdir, dirs, files in os.walk(rootdir):\n",
    "    for file in files:\n",
    "        all_files.append(os.path.join(subdir, file))\n",
    "print(all_files)\n",
    "\n",
    "all_file_part1 = all_files[:int(len(all_files)/2)]\n",
    "all_file_part2 = all_files[int(len(all_files)/2):len(all_files)]\n",
    "print(len(all_files))\n",
    "print(len(all_file_part1))\n",
    "print(len(all_file_part2))"
   ]
  },
  {
   "cell_type": "code",
   "execution_count": 9,
   "metadata": {},
   "outputs": [
    {
     "name": "stderr",
     "output_type": "stream",
     "text": [
      "/home/ej04xjp6/anaconda3/lib/python3.6/site-packages/IPython/core/interactiveshell.py:2698: DtypeWarning: Columns (3) have mixed types. Specify dtype option on import or set low_memory=False.\n",
      "  interactivity=interactivity, compiler=compiler, result=result)\n"
     ]
    }
   ],
   "source": [
    "all_file_dfs = []\n",
    "for file_name in all_files:\n",
    "    all_file_dfs.append(pd.read_csv(file_name, header=None, names=['FileID', 'CustomerID', 'QueryTS', 'ProductID']))\n",
    "\n",
    "query_log_df = pd.concat(all_file_dfs)\n",
    "del all_file_dfs"
   ]
  },
  {
   "cell_type": "code",
   "execution_count": 16,
   "metadata": {},
   "outputs": [],
   "source": [
    "# too slow\n",
    "# for idx, data in train_ans_df.iterrows():\n",
    "#     output_df = query_log_df[query_log_df['FileID']==data['FileID']]\n",
    "#     output_df.to_csv('./file_log/'+data['FileID']+'.csv', index=False, header=False)\n",
    "\n",
    "# print('train completed')\n",
    "\n",
    "# for idx, data in test_ans_df.iterrows():\n",
    "#     output_df = query_log_df[query_log_df['FileID']==data['FileID']]\n",
    "#     output_df.to_csv('./file_log/'+data['FileID']+'.csv', index=False, header=False)\n",
    "\n",
    "# print('test completed')"
   ]
  },
  {
   "cell_type": "code",
   "execution_count": 18,
   "metadata": {},
   "outputs": [],
   "source": [
    "query_group = query_log_df.groupby('FileID')"
   ]
  },
  {
   "cell_type": "code",
   "execution_count": 23,
   "metadata": {},
   "outputs": [
    {
     "name": "stdout",
     "output_type": "stream",
     "text": [
      "train completed\n",
      "test completed\n"
     ]
    }
   ],
   "source": [
    "for idx, data in train_ans_df.iterrows():\n",
    "    try:\n",
    "        output_df = query_group.get_group(data['FileID'])\n",
    "        output_df.to_csv('./file_log/'+data['FileID']+'.csv', index=False, header=False)\n",
    "    except:\n",
    "        next\n",
    "\n",
    "print('train completed')\n",
    "\n",
    "for idx, data in test_ans_df.iterrows():\n",
    "    try:\n",
    "        output_df = query_group.get_group(data['FileID'])\n",
    "        output_df.to_csv('./file_log/'+data['FileID']+'.csv', index=False, header=False)\n",
    "    except:\n",
    "        next\n",
    "\n",
    "print('test completed')"
   ]
  },
  {
   "cell_type": "code",
   "execution_count": null,
   "metadata": {
    "collapsed": true
   },
   "outputs": [],
   "source": []
  }
 ],
 "metadata": {
  "kernelspec": {
   "display_name": "Python 3",
   "language": "python",
   "name": "python3"
  },
  "language_info": {
   "codemirror_mode": {
    "name": "ipython",
    "version": 3
   },
   "file_extension": ".py",
   "mimetype": "text/x-python",
   "name": "python",
   "nbconvert_exporter": "python",
   "pygments_lexer": "ipython3",
   "version": "3.6.3"
  }
 },
 "nbformat": 4,
 "nbformat_minor": 2
}

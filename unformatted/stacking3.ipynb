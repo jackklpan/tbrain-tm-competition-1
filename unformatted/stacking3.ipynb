{
 "cells": [
  {
   "cell_type": "code",
   "execution_count": 1,
   "metadata": {
    "collapsed": true
   },
   "outputs": [],
   "source": [
    "import pandas as pd\n",
    "import numpy as np\n",
    "import seaborn as sns\n",
    "import bisect\n",
    "\n",
    "import matplotlib.pyplot as plt\n",
    "%matplotlib inline  \n",
    "\n",
    "from sklearn.metrics import roc_curve, auc\n",
    "from sklearn.model_selection import train_test_split\n",
    "from sklearn.linear_model import LogisticRegression\n",
    "from sklearn.tree import DecisionTreeClassifier, export_graphviz\n",
    "from sklearn.ensemble import RandomForestClassifier, AdaBoostClassifier\n",
    "\n",
    "from tqdm import tqdm\n",
    "\n",
    "# pd.options.display.max_rows = 4000\n",
    "pd.options.display.max_columns = 4000\n",
    "# pd.options.display.max_seq_items = 2000"
   ]
  },
  {
   "cell_type": "code",
   "execution_count": 2,
   "metadata": {
    "collapsed": true
   },
   "outputs": [],
   "source": [
    "training_df = pd.read_csv('df_log/228/training_self/training_self_0323.csv')\n",
    "dev_df = pd.read_csv('df_log/228/training_self/dev_self_0323.csv')\n",
    "test_df = pd.read_csv('df_log/228/training_self/test_self_0323.csv')\n",
    "\n",
    "training_df = training_df.fillna(0)\n",
    "dev_df = dev_df.fillna(0)\n",
    "test_df = test_df.fillna(0)"
   ]
  },
  {
   "cell_type": "code",
   "execution_count": 3,
   "metadata": {
    "collapsed": true
   },
   "outputs": [],
   "source": [
    "five_folds = [[[0, 1, 2, 3], [4]], [[0, 1, 2, 4], [3]], [[0, 1, 3, 4], [2]], [[0, 2, 3, 4], [1]], [[1, 2, 3, 4], [0]]]"
   ]
  },
  {
   "cell_type": "code",
   "execution_count": 4,
   "metadata": {
    "collapsed": true
   },
   "outputs": [],
   "source": [
    "import lightgbm as lgb"
   ]
  },
  {
   "cell_type": "code",
   "execution_count": 5,
   "metadata": {
    "collapsed": true
   },
   "outputs": [],
   "source": [
    "layer1_df = pd.DataFrame()"
   ]
  },
  {
   "cell_type": "code",
   "execution_count": 6,
   "metadata": {
    "collapsed": true
   },
   "outputs": [],
   "source": [
    "useful_columns = ['bin_0_affect_user_ratio', 'first_24h_each_user_event_avg', 'bin_ratio_max', \\\n",
    "                  'customer_has_static_b3_count', 'hour_occupy_ratio', 'bin_9_affect_user_ratio', \\\n",
    "                  'dayofweek_ratio_std', 'event_diff_time_rstd', 'each_user_event_std', \\\n",
    "                  'event_diff_time_lessone_ratio2', 'bin_7_affect_user_ratio', 'first_24h_affect_user_ratio', \\\n",
    "                  'all_event_diff_time_mean', 'product_virus_ratio_max', 'customer_virus_zero_count', \\\n",
    "                  'customer_spread_time_mean', 'customer_virus_ratio_rstd', 'first_24h_affect_user_count', \\\n",
    "                  'hour_ratio_max', 'hour_ratio_std', 'customer_has_static_b3_ratio', 'first_24h_ratio', \\\n",
    "                  'customer_has_static_ratio', 'customer_has_static_count', 'event_diff_time_median', \\\n",
    "                  'hour_ratio_mean', 'first_24h_count', 'customer_virus_ratio_median', 'event_diff_time_median2', \\\n",
    "                  'all_event_diff_time_median', 'customer_virus_ratio_std', 'customer_virus_ratio_avg', \\\n",
    "                  'customer_virus_ratio_max', 'each_user_event_avg', 'customer_virus_zero_ratio', \\\n",
    "                  'customer_virus_zero_ratio2', 'customer_virus_ratio_wavg']\n",
    "\n",
    "# drop_features = ['fold', 'label', 'FileID', 'first_time_occur', 'last_time_occur']\n",
    "# useful_columns = [item for item in training_df.columns.tolist() if item not in drop_features]"
   ]
  },
  {
   "cell_type": "code",
   "execution_count": 7,
   "metadata": {},
   "outputs": [
    {
     "name": "stdout",
     "output_type": "stream",
     "text": [
      "[1]\tvalid_0's auc: 0.867406\tvalid_0's l2: 0.229709\n",
      "[2]\tvalid_0's auc: 0.884967\tvalid_0's l2: 0.211336\n",
      "[3]\tvalid_0's auc: 0.917716\tvalid_0's l2: 0.19489\n",
      "[4]\tvalid_0's auc: 0.924794\tvalid_0's l2: 0.179933\n",
      "[5]\tvalid_0's auc: 0.941848\tvalid_0's l2: 0.166534\n",
      "[6]\tvalid_0's auc: 0.942944\tvalid_0's l2: 0.154266\n",
      "[7]\tvalid_0's auc: 0.942937\tvalid_0's l2: 0.143221\n",
      "[8]\tvalid_0's auc: 0.943616\tvalid_0's l2: 0.133344\n",
      "[9]\tvalid_0's auc: 0.94344\tvalid_0's l2: 0.124365\n",
      "[10]\tvalid_0's auc: 0.943383\tvalid_0's l2: 0.11622\n",
      "[11]\tvalid_0's auc: 0.946323\tvalid_0's l2: 0.108895\n",
      "[12]\tvalid_0's auc: 0.946273\tvalid_0's l2: 0.102197\n",
      "[13]\tvalid_0's auc: 0.946594\tvalid_0's l2: 0.096143\n",
      "[14]\tvalid_0's auc: 0.946836\tvalid_0's l2: 0.0908348\n",
      "[15]\tvalid_0's auc: 0.947006\tvalid_0's l2: 0.0858576\n",
      "[16]\tvalid_0's auc: 0.948286\tvalid_0's l2: 0.0814451\n",
      "[17]\tvalid_0's auc: 0.94975\tvalid_0's l2: 0.0773883\n",
      "[18]\tvalid_0's auc: 0.950259\tvalid_0's l2: 0.0737298\n",
      "[19]\tvalid_0's auc: 0.950417\tvalid_0's l2: 0.0704479\n",
      "[20]\tvalid_0's auc: 0.950741\tvalid_0's l2: 0.0674672\n",
      "[21]\tvalid_0's auc: 0.950465\tvalid_0's l2: 0.0647508\n",
      "[22]\tvalid_0's auc: 0.951527\tvalid_0's l2: 0.0622214\n",
      "[23]\tvalid_0's auc: 0.951509\tvalid_0's l2: 0.059987\n",
      "[24]\tvalid_0's auc: 0.952421\tvalid_0's l2: 0.0579526\n",
      "[25]\tvalid_0's auc: 0.952425\tvalid_0's l2: 0.0560816\n",
      "[26]\tvalid_0's auc: 0.953635\tvalid_0's l2: 0.054395\n",
      "[27]\tvalid_0's auc: 0.953985\tvalid_0's l2: 0.0529191\n",
      "[28]\tvalid_0's auc: 0.954361\tvalid_0's l2: 0.0514797\n",
      "[29]\tvalid_0's auc: 0.954641\tvalid_0's l2: 0.0502753\n",
      "[30]\tvalid_0's auc: 0.954521\tvalid_0's l2: 0.0491195\n",
      "[31]\tvalid_0's auc: 0.954589\tvalid_0's l2: 0.0480273\n",
      "[32]\tvalid_0's auc: 0.954595\tvalid_0's l2: 0.0471468\n",
      "[33]\tvalid_0's auc: 0.95478\tvalid_0's l2: 0.0462797\n",
      "[34]\tvalid_0's auc: 0.954927\tvalid_0's l2: 0.0455448\n",
      "[35]\tvalid_0's auc: 0.95498\tvalid_0's l2: 0.0448169\n",
      "[36]\tvalid_0's auc: 0.954714\tvalid_0's l2: 0.0441489\n",
      "[37]\tvalid_0's auc: 0.95511\tvalid_0's l2: 0.0436039\n",
      "[38]\tvalid_0's auc: 0.954948\tvalid_0's l2: 0.0431016\n",
      "[39]\tvalid_0's auc: 0.954935\tvalid_0's l2: 0.0426644\n",
      "[40]\tvalid_0's auc: 0.954825\tvalid_0's l2: 0.0422451\n",
      "[41]\tvalid_0's auc: 0.955547\tvalid_0's l2: 0.0418514\n",
      "[42]\tvalid_0's auc: 0.955885\tvalid_0's l2: 0.0414554\n",
      "[43]\tvalid_0's auc: 0.956154\tvalid_0's l2: 0.0411442\n",
      "[44]\tvalid_0's auc: 0.956123\tvalid_0's l2: 0.0408473\n",
      "[45]\tvalid_0's auc: 0.956447\tvalid_0's l2: 0.040506\n",
      "[46]\tvalid_0's auc: 0.956391\tvalid_0's l2: 0.0402428\n",
      "[47]\tvalid_0's auc: 0.956414\tvalid_0's l2: 0.0399604\n",
      "[48]\tvalid_0's auc: 0.956646\tvalid_0's l2: 0.0397143\n",
      "[49]\tvalid_0's auc: 0.956863\tvalid_0's l2: 0.0394878\n",
      "[50]\tvalid_0's auc: 0.956653\tvalid_0's l2: 0.0392765\n",
      "[51]\tvalid_0's auc: 0.956681\tvalid_0's l2: 0.0391116\n",
      "[52]\tvalid_0's auc: 0.956941\tvalid_0's l2: 0.0389257\n",
      "[53]\tvalid_0's auc: 0.957022\tvalid_0's l2: 0.0387697\n",
      "[54]\tvalid_0's auc: 0.95705\tvalid_0's l2: 0.0386368\n",
      "[55]\tvalid_0's auc: 0.957087\tvalid_0's l2: 0.0385005\n",
      "[56]\tvalid_0's auc: 0.957159\tvalid_0's l2: 0.0383855\n",
      "[57]\tvalid_0's auc: 0.957458\tvalid_0's l2: 0.0382763\n",
      "[58]\tvalid_0's auc: 0.957605\tvalid_0's l2: 0.0381301\n",
      "[59]\tvalid_0's auc: 0.958094\tvalid_0's l2: 0.0380385\n",
      "[60]\tvalid_0's auc: 0.958506\tvalid_0's l2: 0.037941\n",
      "[61]\tvalid_0's auc: 0.95845\tvalid_0's l2: 0.0378578\n",
      "[62]\tvalid_0's auc: 0.958408\tvalid_0's l2: 0.0377893\n",
      "[63]\tvalid_0's auc: 0.958634\tvalid_0's l2: 0.0377388\n",
      "[64]\tvalid_0's auc: 0.958811\tvalid_0's l2: 0.0376944\n",
      "[65]\tvalid_0's auc: 0.958901\tvalid_0's l2: 0.0376277\n",
      "[66]\tvalid_0's auc: 0.959197\tvalid_0's l2: 0.0375473\n",
      "[67]\tvalid_0's auc: 0.959385\tvalid_0's l2: 0.0374964\n",
      "[68]\tvalid_0's auc: 0.959283\tvalid_0's l2: 0.0374315\n",
      "[69]\tvalid_0's auc: 0.959707\tvalid_0's l2: 0.0373625\n",
      "[70]\tvalid_0's auc: 0.959794\tvalid_0's l2: 0.0373192\n",
      "[71]\tvalid_0's auc: 0.959729\tvalid_0's l2: 0.0372723\n",
      "[72]\tvalid_0's auc: 0.959655\tvalid_0's l2: 0.0372465\n",
      "[73]\tvalid_0's auc: 0.959631\tvalid_0's l2: 0.0372136\n",
      "[74]\tvalid_0's auc: 0.959812\tvalid_0's l2: 0.0371737\n",
      "[75]\tvalid_0's auc: 0.959952\tvalid_0's l2: 0.037107\n",
      "[76]\tvalid_0's auc: 0.960138\tvalid_0's l2: 0.0370901\n",
      "[77]\tvalid_0's auc: 0.960218\tvalid_0's l2: 0.037065\n",
      "[78]\tvalid_0's auc: 0.960402\tvalid_0's l2: 0.0370414\n",
      "[79]\tvalid_0's auc: 0.960395\tvalid_0's l2: 0.03704\n",
      "[80]\tvalid_0's auc: 0.960365\tvalid_0's l2: 0.0370302\n",
      "[81]\tvalid_0's auc: 0.960378\tvalid_0's l2: 0.0370366\n",
      "[82]\tvalid_0's auc: 0.960451\tvalid_0's l2: 0.0370383\n",
      "[83]\tvalid_0's auc: 0.960452\tvalid_0's l2: 0.0370662\n",
      "[84]\tvalid_0's auc: 0.960455\tvalid_0's l2: 0.0370531\n",
      "[85]\tvalid_0's auc: 0.960606\tvalid_0's l2: 0.0370419\n",
      "[86]\tvalid_0's auc: 0.960738\tvalid_0's l2: 0.0370028\n",
      "[87]\tvalid_0's auc: 0.96106\tvalid_0's l2: 0.0369689\n",
      "[88]\tvalid_0's auc: 0.9611\tvalid_0's l2: 0.0369447\n",
      "[89]\tvalid_0's auc: 0.961203\tvalid_0's l2: 0.036923\n",
      "[90]\tvalid_0's auc: 0.961475\tvalid_0's l2: 0.036882\n",
      "[91]\tvalid_0's auc: 0.961689\tvalid_0's l2: 0.0368673\n",
      "[92]\tvalid_0's auc: 0.961768\tvalid_0's l2: 0.0368247\n",
      "[93]\tvalid_0's auc: 0.961639\tvalid_0's l2: 0.0368088\n",
      "[94]\tvalid_0's auc: 0.961496\tvalid_0's l2: 0.036789\n",
      "[95]\tvalid_0's auc: 0.961527\tvalid_0's l2: 0.036774\n",
      "[96]\tvalid_0's auc: 0.961639\tvalid_0's l2: 0.0367348\n",
      "[97]\tvalid_0's auc: 0.961739\tvalid_0's l2: 0.0366968\n",
      "[98]\tvalid_0's auc: 0.961931\tvalid_0's l2: 0.0366915\n",
      "[99]\tvalid_0's auc: 0.962063\tvalid_0's l2: 0.036655\n",
      "[100]\tvalid_0's auc: 0.962167\tvalid_0's l2: 0.0366422\n",
      "[101]\tvalid_0's auc: 0.962127\tvalid_0's l2: 0.0366685\n",
      "[102]\tvalid_0's auc: 0.962134\tvalid_0's l2: 0.0366628\n",
      "[103]\tvalid_0's auc: 0.962259\tvalid_0's l2: 0.0366695\n",
      "[104]\tvalid_0's auc: 0.96225\tvalid_0's l2: 0.0366578\n",
      "[105]\tvalid_0's auc: 0.962419\tvalid_0's l2: 0.0366169\n",
      "0.983016363273198\n",
      "0.9624191719589501\n",
      "0.9609144316240137\n"
     ]
    }
   ],
   "source": [
    "params = {\n",
    "    'task': 'train',\n",
    "    'boosting_type': 'gbdt',\n",
    "    'objective': 'binary',\n",
    "    'metric': {'l2', 'auc'},\n",
    "    'num_leaves': 31,\n",
    "    'learning_rate': 0.05,\n",
    "    'feature_fraction': 0.6,\n",
    "    'bagging_fraction': 0.8,\n",
    "    'bagging_freq': 5,\n",
    "    'verbose': 0,\n",
    "    'lambda_l2': 5.0,\n",
    "    'min_gain_to_split': 0,\n",
    "    'min_data_in_leaf': 8,\n",
    "    'max_depth': 15\n",
    "}\n",
    "\n",
    "lgb_train = lgb.Dataset(training_df[useful_columns].values, training_df['label'].values)\n",
    "lgb_eval = lgb.Dataset(dev_df[useful_columns].values, dev_df['label'].values, reference=lgb_train)\n",
    "gbm = lgb.train(params,\n",
    "            lgb_train,\n",
    "            num_boost_round=105,\n",
    "            valid_sets=lgb_eval)\n",
    "\n",
    "fpr, tpr, thresholds = roc_curve(training_df['label'], gbm.predict(training_df[useful_columns].values, num_iteration=gbm.best_iteration))\n",
    "print(auc(fpr, tpr))\n",
    "fpr, tpr, thresholds = roc_curve(dev_df['label'], gbm.predict(dev_df[useful_columns].values, num_iteration=gbm.best_iteration))\n",
    "print(auc(fpr, tpr))\n",
    "fpr, tpr, thresholds = roc_curve(test_df['label'], gbm.predict(test_df[useful_columns].values, num_iteration=gbm.best_iteration))\n",
    "print(auc(fpr, tpr))"
   ]
  },
  {
   "cell_type": "code",
   "execution_count": 8,
   "metadata": {
    "collapsed": true
   },
   "outputs": [],
   "source": [
    "layer1_df['lgbm'] = gbm.predict(dev_df[useful_columns].values, num_iteration=gbm.best_iteration)"
   ]
  },
  {
   "cell_type": "code",
   "execution_count": 9,
   "metadata": {
    "collapsed": true
   },
   "outputs": [],
   "source": [
    "from sklearn.neural_network import MLPClassifier, MLPRegressor\n",
    "from sklearn import preprocessing"
   ]
  },
  {
   "cell_type": "code",
   "execution_count": 10,
   "metadata": {
    "collapsed": true
   },
   "outputs": [],
   "source": [
    "scaler = preprocessing.StandardScaler().fit(training_df[useful_columns])"
   ]
  },
  {
   "cell_type": "code",
   "execution_count": 11,
   "metadata": {},
   "outputs": [
    {
     "name": "stdout",
     "output_type": "stream",
     "text": [
      "0.9718558579536284\n",
      "0.9587351251557061\n",
      "0.9715117529363307\n",
      "0.9569112471337253\n",
      "0.9714789530264757\n",
      "0.957393543481784\n",
      "0.9708278533201468\n",
      "0.957467194472625\n",
      "0.973133717847573\n",
      "0.9583769232409088\n"
     ]
    }
   ],
   "source": [
    "predict_results = []\n",
    "clssfis = []\n",
    "for idx, fold in enumerate(five_folds):\n",
    "    merge_folds = fold[0]\n",
    "    fold_training = training_df[training_df['fold'].isin(merge_folds)]\n",
    "\n",
    "    clssfi = MLPClassifier(random_state=0, hidden_layer_sizes=(10, 3, 3), alpha=0.2)\n",
    "    clssfi.fit(scaler.transform(fold_training[useful_columns]), fold_training['label'])\n",
    "    fpr, tpr, thresholds = roc_curve(fold_training['label'], clssfi.predict_proba(scaler.transform(fold_training[useful_columns]))[:, 1])\n",
    "    print(auc(fpr, tpr))\n",
    "    fpr, tpr, thresholds = roc_curve(dev_df['label'], clssfi.predict_proba(scaler.transform(dev_df[useful_columns]))[:, 1])\n",
    "    print(auc(fpr, tpr))\n",
    "    \n",
    "    clssfis.append(clssfi)\n",
    "    predict_results.append(clssfi.predict_proba(scaler.transform(dev_df[useful_columns]))[:, 1])"
   ]
  },
  {
   "cell_type": "code",
   "execution_count": 12,
   "metadata": {},
   "outputs": [
    {
     "name": "stdout",
     "output_type": "stream",
     "text": [
      "0.9608372085661308\n"
     ]
    }
   ],
   "source": [
    "fpr, tpr, thresholds = roc_curve(dev_df['label'], np.mean(predict_results, axis=0))\n",
    "print(auc(fpr, tpr))\n",
    "layer1_df['nn'] = np.mean(predict_results, axis=0)"
   ]
  },
  {
   "cell_type": "code",
   "execution_count": 13,
   "metadata": {
    "collapsed": true
   },
   "outputs": [],
   "source": [
    "from sklearn.linear_model import LogisticRegression"
   ]
  },
  {
   "cell_type": "code",
   "execution_count": 14,
   "metadata": {
    "collapsed": true
   },
   "outputs": [],
   "source": [
    "def transform_x(df, scaler):\n",
    "    temp_df = scaler.transform(df)\n",
    "    \n",
    "    new_X = temp_df\n",
    "    \n",
    "    new_X = np.hstack((temp_df**(i+1) for i in range(2)))\n",
    "    \n",
    "    return new_X"
   ]
  },
  {
   "cell_type": "code",
   "execution_count": 36,
   "metadata": {},
   "outputs": [
    {
     "data": {
      "text/plain": [
       "LogisticRegression(C=0.05, class_weight='balanced', dual=False,\n",
       "          fit_intercept=True, intercept_scaling=1, max_iter=100,\n",
       "          multi_class='ovr', n_jobs=1, penalty='l2', random_state=None,\n",
       "          solver='liblinear', tol=0.0001, verbose=0, warm_start=False)"
      ]
     },
     "execution_count": 36,
     "metadata": {},
     "output_type": "execute_result"
    }
   ],
   "source": [
    "clssfi = LogisticRegression(C=0.05, class_weight='balanced')\n",
    "clssfi.fit(transform_x(training_df[useful_columns], scaler), training_df['label'])"
   ]
  },
  {
   "cell_type": "code",
   "execution_count": 37,
   "metadata": {},
   "outputs": [
    {
     "name": "stdout",
     "output_type": "stream",
     "text": [
      "0.9625196577029743\n",
      "0.9506964724312505\n"
     ]
    }
   ],
   "source": [
    "fpr, tpr, thresholds = roc_curve(training_df['label'], clssfi.predict_proba(transform_x(training_df[useful_columns], scaler))[:, 1])\n",
    "print(auc(fpr, tpr))\n",
    "fpr, tpr, thresholds = roc_curve(dev_df['label'], clssfi.predict_proba(transform_x(dev_df[useful_columns], scaler))[:, 1])\n",
    "print(auc(fpr, tpr))"
   ]
  },
  {
   "cell_type": "code",
   "execution_count": 17,
   "metadata": {
    "collapsed": true
   },
   "outputs": [],
   "source": [
    "layer1_df['logit'] = clssfi.predict_proba(transform_x(dev_df[useful_columns], scaler))[:, 1]"
   ]
  },
  {
   "cell_type": "code",
   "execution_count": 18,
   "metadata": {},
   "outputs": [
    {
     "data": {
      "text/html": [
       "<div>\n",
       "<table border=\"1\" class=\"dataframe\">\n",
       "  <thead>\n",
       "    <tr style=\"text-align: right;\">\n",
       "      <th></th>\n",
       "      <th>lgbm</th>\n",
       "      <th>nn</th>\n",
       "      <th>logit</th>\n",
       "    </tr>\n",
       "  </thead>\n",
       "  <tbody>\n",
       "    <tr>\n",
       "      <th>lgbm</th>\n",
       "      <td>1.000000</td>\n",
       "      <td>0.961342</td>\n",
       "      <td>0.836455</td>\n",
       "    </tr>\n",
       "    <tr>\n",
       "      <th>nn</th>\n",
       "      <td>0.961342</td>\n",
       "      <td>1.000000</td>\n",
       "      <td>0.857025</td>\n",
       "    </tr>\n",
       "    <tr>\n",
       "      <th>logit</th>\n",
       "      <td>0.836455</td>\n",
       "      <td>0.857025</td>\n",
       "      <td>1.000000</td>\n",
       "    </tr>\n",
       "  </tbody>\n",
       "</table>\n",
       "</div>"
      ],
      "text/plain": [
       "           lgbm        nn     logit\n",
       "lgbm   1.000000  0.961342  0.836455\n",
       "nn     0.961342  1.000000  0.857025\n",
       "logit  0.836455  0.857025  1.000000"
      ]
     },
     "execution_count": 18,
     "metadata": {},
     "output_type": "execute_result"
    }
   ],
   "source": [
    "layer1_df.corr()"
   ]
  },
  {
   "cell_type": "code",
   "execution_count": 19,
   "metadata": {},
   "outputs": [
    {
     "name": "stdout",
     "output_type": "stream",
     "text": [
      "0.9598294091900037\n",
      "0.9582729705355398\n",
      "0.964297022681867\n",
      "0.9563370831170327\n"
     ]
    }
   ],
   "source": [
    "fpr, tpr, thresholds = roc_curve(dev_df['label'], np.mean(layer1_df, axis=1))\n",
    "print(auc(fpr, tpr))\n",
    "fpr, tpr, thresholds = roc_curve(dev_df['label'], layer1_df['logit']*0.5+layer1_df['lgbm']*0.5)\n",
    "print(auc(fpr, tpr))\n",
    "fpr, tpr, thresholds = roc_curve(dev_df['label'], layer1_df['nn']*0.5+layer1_df['lgbm']*0.5)\n",
    "print(auc(fpr, tpr))\n",
    "fpr, tpr, thresholds = roc_curve(dev_df['label'], layer1_df['nn']*0.5+layer1_df['logit']*0.5)\n",
    "print(auc(fpr, tpr))"
   ]
  },
  {
   "cell_type": "code",
   "execution_count": 22,
   "metadata": {},
   "outputs": [
    {
     "name": "stdout",
     "output_type": "stream",
     "text": [
      "0.9617155304985332\n"
     ]
    }
   ],
   "source": [
    "fpr, tpr, thresholds = roc_curve(dev_df['label'], layer1_df['logit']*0.2+layer1_df['nn']*0.4+layer1_df['lgbm']*0.4)\n",
    "print(auc(fpr, tpr))"
   ]
  },
  {
   "cell_type": "code",
   "execution_count": 25,
   "metadata": {},
   "outputs": [
    {
     "name": "stdout",
     "output_type": "stream",
     "text": [
      "0.9643768053137656\n"
     ]
    }
   ],
   "source": [
    "fpr, tpr, thresholds = roc_curve(dev_df['label'], layer1_df['nn']*0.4+layer1_df['lgbm']*0.6)\n",
    "print(auc(fpr, tpr))"
   ]
  },
  {
   "cell_type": "code",
   "execution_count": 26,
   "metadata": {
    "collapsed": true
   },
   "outputs": [],
   "source": [
    "layer1_df = pd.DataFrame()"
   ]
  },
  {
   "cell_type": "code",
   "execution_count": 27,
   "metadata": {
    "collapsed": true
   },
   "outputs": [],
   "source": [
    "predict_results = []\n",
    "for clssfi in clssfis:\n",
    "    predict_results.append(clssfi.predict_proba(scaler.transform(test_df[useful_columns]))[:, 1])"
   ]
  },
  {
   "cell_type": "code",
   "execution_count": 28,
   "metadata": {},
   "outputs": [
    {
     "name": "stdout",
     "output_type": "stream",
     "text": [
      "0.9541313091558354\n"
     ]
    }
   ],
   "source": [
    "fpr, tpr, thresholds = roc_curve(test_df['label'], np.mean(predict_results, axis=0))\n",
    "print(auc(fpr, tpr))\n",
    "layer1_df['nn'] = np.mean(predict_results, axis=0)"
   ]
  },
  {
   "cell_type": "code",
   "execution_count": 30,
   "metadata": {},
   "outputs": [
    {
     "name": "stdout",
     "output_type": "stream",
     "text": [
      "0.9609144316240137\n"
     ]
    }
   ],
   "source": [
    "fpr, tpr, thresholds = roc_curve(test_df['label'], gbm.predict(test_df[useful_columns].values, num_iteration=gbm.best_iteration))\n",
    "print(auc(fpr, tpr))\n",
    "layer1_df['lgbm'] = gbm.predict(test_df[useful_columns].values, num_iteration=gbm.best_iteration)"
   ]
  },
  {
   "cell_type": "code",
   "execution_count": 43,
   "metadata": {},
   "outputs": [
    {
     "name": "stdout",
     "output_type": "stream",
     "text": [
      "0.9611493750839941\n"
     ]
    }
   ],
   "source": [
    "fpr, tpr, thresholds = roc_curve(test_df['label'], layer1_df['nn']*0.4+layer1_df['lgbm']*0.6)\n",
    "print(auc(fpr, tpr))"
   ]
  },
  {
   "cell_type": "code",
   "execution_count": 38,
   "metadata": {},
   "outputs": [],
   "source": [
    "layer1_df['logit'] = clssfi.predict_proba(transform_x(test_df[useful_columns], scaler))[:, 1]"
   ]
  },
  {
   "cell_type": "code",
   "execution_count": 40,
   "metadata": {},
   "outputs": [
    {
     "name": "stdout",
     "output_type": "stream",
     "text": [
      "0.9574315568183999\n"
     ]
    }
   ],
   "source": [
    "fpr, tpr, thresholds = roc_curve(test_df['label'], layer1_df['logit']*0.2+layer1_df['nn']*0.4+layer1_df['lgbm']*0.4)\n",
    "print(auc(fpr, tpr))"
   ]
  },
  {
   "cell_type": "code",
   "execution_count": null,
   "metadata": {
    "collapsed": true
   },
   "outputs": [],
   "source": []
  }
 ],
 "metadata": {
  "kernelspec": {
   "display_name": "Python 3",
   "language": "python",
   "name": "python3"
  },
  "language_info": {
   "codemirror_mode": {
    "name": "ipython",
    "version": 3
   },
   "file_extension": ".py",
   "mimetype": "text/x-python",
   "name": "python",
   "nbconvert_exporter": "python",
   "pygments_lexer": "ipython3",
   "version": "3.4.3"
  }
 },
 "nbformat": 4,
 "nbformat_minor": 2
}
